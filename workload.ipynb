{
 "metadata": {
  "language_info": {
   "codemirror_mode": {
    "name": "ipython",
    "version": 3
   },
   "file_extension": ".py",
   "mimetype": "text/x-python",
   "name": "python",
   "nbconvert_exporter": "python",
   "pygments_lexer": "ipython3",
   "version": "3.7.4-final"
  },
  "orig_nbformat": 2,
  "kernelspec": {
   "name": "python37464bitbaseb6f6ed490e234d7a8f9f563de90df3a4",
   "display_name": "Python 3.7.4 64-bit ('base')"
  }
 },
 "nbformat": 4,
 "nbformat_minor": 2,
 "cells": [
  {
   "source": [
    "import os\n",
    "import numpy as np \n",
    "from numpy import identity, sum\n",
    "from numpy import transpose as tr\n",
    "from numpy import diagflat as to_diag\n",
    "from scipy.linalg import expm, inv, null_space\n",
    "import sympy as sp \n",
    "import matplotlib.pyplot as plt\n",
    "from ipywidgets import interact, interactive, fixed, interact_manual\n",
    "import ipywidgets as widgets"
   ],
   "cell_type": "code",
   "metadata": {},
   "execution_count": 1,
   "outputs": []
  },
  {
   "cell_type": "code",
   "execution_count": 2,
   "metadata": {},
   "outputs": [],
   "source": [
    "def workload(c=2, λ=1, μ1=0.45, μ2=0.55, k=0.1):\n",
    "\n",
    "    # Definitions\n",
    "    μ = lambda i, j : i * μ1 + j * μ2\n",
    "    Δ0 = np.diag([μ(i,c-1-i) for i in range(c)])\n",
    "    Δ1 = np.diag([μ(i+1,c-1-i) for i in range(c)])\n",
    "    Δ2 = np.diag([μ(i,c-i) for i in range(c)])\n",
    "\n",
    "    μvec = lambda n : [μ(i,n-i) for i in range(n+1)]\n",
    "    hΔ = lambda n : np.diag(μvec(n))\n",
    "    hB = lambda n : np.array([[(i==j)*(n+1-i)*μ2+(i==j+1)*i*μ1 for j in range(n+1)] for i in range(n+2)])\n",
    "    hI = lambda n : np.array([[(i+1==j)*1 for j in range(n+1)] for i in range(n)])\n",
    "\n",
    "    Q1 = lambda x : expm(-x*Δ1)\n",
    "    Q2 = lambda x : expm(-x*Δ2)\n",
    "    B1 = np.array([[(i==j)*(i+1)*μ1+(i+1==j)*(c-1-i)*μ2 for j in range(c)] for i in range(c)])\n",
    "    B2 = np.array([[(i==j)*(c-i)*μ2+(i-1==j)*i*μ1 for j in range(c)] for i in range(c)])\n",
    "\n",
    "    tΔ1 = np.linalg.inv(B1) @ Δ1 @ B1\n",
    "    tΔ2 = np.linalg.inv(B2) @ Δ2 @ B2\n",
    "    tQ1 = lambda x : inv(B1) @ Q1(x) @ B1\n",
    "    tQ2 = lambda x : inv(B2) @ Q2(x) @ B2\n",
    "\n",
    "    # Solving homogeneous equations\n",
    "    D1 = lambda x : pow(x,2) * identity(c) - x * (λ * identity(c) - tΔ1) + λ * (B1 - tΔ1)\n",
    "    D2 = lambda x : pow(x,2) * identity(c) - x * (λ * identity(c) - tΔ2) + λ * (B2 - tΔ2)\n",
    "    eigenvector = lambda x : tr(null_space(tr(x)))\n",
    "\n",
    "    θ1P = [(λ-μ(i+1,c-1-i)+np.sqrt(pow(λ-μ(i+1,c-1-i),2)+4*λ*μ(0,c-1-i)))/2 for i in range(c)]\n",
    "    θ1N = [(λ-μ(i+1,c-1-i)-np.sqrt(pow(λ-μ(i+1,c-1-i),2)+4*λ*μ(0,c-1-i)))/2 for i in range(c)]\n",
    "    θ2P = [(λ-μ(i,c-i)+np.sqrt(pow(λ-μ(i,c-i),2)+4*λ*μ(i,0)))/2 for i in range(c)]\n",
    "    θ2N = [(λ-μ(i,c-i)-np.sqrt(pow(λ-μ(i,c-i),2)+4*λ*μ(i,0)))/2 for i in range(c)]\n",
    "\n",
    "    ɸ1P = np.concatenate([eigenvector(D1(θ1P[i])) for i in range(c)])\n",
    "    ɸ1N = np.concatenate([eigenvector(D1(θ1N[i])) for i in range(c)])\n",
    "    ɸ2P = np.concatenate([eigenvector(D2(θ2P[i])) for i in range(c)])\n",
    "    ɸ2N = np.concatenate([eigenvector(D2(θ2N[i])) for i in range(c)])\n",
    "\n",
    "    U1P = inv(ɸ1P) @ to_diag(θ1P) @ ɸ1P\n",
    "    U1N = inv(ɸ1N) @ to_diag(θ1N) @ ɸ1N\n",
    "    U2P = inv(ɸ2P) @ to_diag(θ2P) @ ɸ2P\n",
    "    U2N = inv(ɸ2N) @ to_diag(θ2N) @ ɸ2N\n",
    "\n",
    "    # Solving homogeneous equations\n",
    "    vη1 = eigenvector(D1(0))\n",
    "    Mη1 =  λ * (B1 - tΔ1) - to_diag(vη1)\n",
    "    M0 = inv(Mη1)\n",
    "    vη2 = eigenvector(D2(0))\n",
    "    Mη2 =  λ * (B2 - tΔ2) - to_diag(vη2)\n",
    "    M1 = inv(Mη2)\n",
    "    M2 = inv((Δ1[-1,-1] + λ) * (Δ1[-1,-1] * identity(c) - tΔ2) + λ * B2)\n",
    "\n",
    "    H1 = inv(U1P - U1N) @ (expm(k * U1P) - expm(k * U1N))\n",
    "    H2 = M0 @ (identity(c) - expm(k* U1N) + U1N @ H1)\n",
    "    H3 = H1 + tΔ1 @ H2\n",
    "    H4 = - λ * B1 @ H2\n",
    "\n",
    "    H5 = inv(U1P - U1N) @ (U1P @ expm(k * U1P) - U1N @ expm(k * U1N))\n",
    "    H6 = M0 @ (U1N @ expm(k * U1N) - U1N @ H5)\n",
    "    H7 = H5 - tΔ1 @ H6\n",
    "    H8 = λ * B1 @ H6\n",
    "\n",
    "    H9 = (tΔ1 - tΔ2) @ M2 @ U2N + tΔ1 @ (tΔ1 - tΔ2) @ M2 \n",
    "    H10 = U2N - λ * (identity(c) - B2 @ inv(tΔ2)) @ H9\n",
    "    H11 = M1 @ U2N + inv(tΔ2) @ H9\n",
    "    H12 = H10 + λ * (B1 @ inv(tΔ1) @ tΔ2 - B2) @ H11\n",
    "    H13 = tΔ2 @ H11\n",
    "    H14 = λ * B1 @ inv(tΔ1) @ tΔ2 @ H11\n",
    "\n",
    "    H15 = inv(H7 - H7 @ H9 - H3 @ H12 + H13)\n",
    "    H16 = (H14 + H4 @ H12 - H8 + H8 @ H9) @ H15\n",
    "\n",
    "    H17 = tΔ2 @ M1 - λ * H3 @ (B1 @ inv(tΔ1) @ tΔ2 - B2) @ M1\n",
    "    H18 = λ * B1 @ inv(tΔ1) @ tΔ2 @ M1 + λ * H4 @ (B1 @ inv(tΔ1) @ tΔ2 - B2) @ M1\n",
    "    H19 = identity(c) - U2N @ H15 @ H17\n",
    "    H20 = H16 @ H17 - H18\n",
    "\n",
    "    # Solving the final system of equations\n",
    "    def hC(n):\n",
    "        if (n==0):\n",
    "            return hB(0) / λ\n",
    "        if (n<c-1):\n",
    "            return hB(n) @ inv(λ * (identity(n+1) - hC(n-1) @ hI(n))+ hΔ(n) )\n",
    "        if (n==c-1):\n",
    "            return - U2N @ H15 @ inv(λ * (identity(c) - hC(c-2) @ hI(c-1)) + hΔ(c-1)  - H16)\n",
    "        return -1\n",
    "\n",
    "    def hH(n):\n",
    "        if (n==c-1):\n",
    "            return hC(c-1)\n",
    "        if (n<c-1):\n",
    "            return hH(n+1) @ hC(n)\n",
    "        return -1\n",
    "\n",
    "    bcsol = 1/(sum(vη2 @ (H19 + hH(c-1) @ H20)) + sum([sum(vη2 @ hH(n)) for n in range(c)]))\n",
    "    δsol = lambda n : bcsol * vη2 @ hH(n)\n",
    "\n",
    "    \n",
    "    # Constructing the workload function\n",
    "    vf0sol = δsol(c-1) @ H16 - bcsol * vη2 @ U2N @ H15\n",
    "    vfksol = vf0sol @ H7 + δsol(c-1) @ H8\n",
    "    vFksol = vf0sol @ H3 + δsol(c-1) @ H4\n",
    "\n",
    "    𝛼0sol = vf0sol @ tΔ1 - λ * δsol(c-1) @ B1\n",
    "    𝛼1sol = 𝛼0sol @ inv(tΔ1) @ tΔ2 - λ * vFksol @ (B1 @ inv(tΔ1) @ tΔ2 - B2)\n",
    "    𝛼2sol = 𝛼1sol @ inv(tΔ2) - vfksol +  λ * vFksol @ (identity(c) - B2 @ inv(tΔ2))\n",
    "    \n",
    "    F2solInf = bcsol * vη2 @ H19 + δsol(c-1) @ H20\n",
    "    Wpos = 1 - sum(F2solInf)\n",
    "\n",
    "    F1sol = lambda x : (vf0sol + 𝛼0sol @ M0 @ U1N) @ inv(U1P - U1N) @ (expm(x*U1P) - expm(x*U1N)) + 𝛼0sol @ M0 @ (identity(c) - expm(x*U1N))\n",
    "    F2sol = lambda x : vFksol @ expm((x-k)*U2N) + (bcsol * vη2 + 𝛼1sol @ M1) @ (identity(c) - expm((x-k)*U2N)) - 𝛼2sol @ ((tΔ1-tΔ2) @ M2 @ expm((x-k)*U2N) - tQ1(x-k) @ (tΔ1-tΔ2) @ M2)\n",
    "    Fsol = lambda x :  F1sol(x) if (x<k) else F2sol(x)\n",
    "    Wsol = lambda x :  Wpos + sum(Fsol(x))\n",
    "\n",
    "    # returning the workload function \n",
    "    return Wsol"
   ]
  },
  {
   "cell_type": "code",
   "execution_count": 3,
   "metadata": {},
   "outputs": [],
   "source": [
    "def c_graph(λ=2, μ1=0.75, μ2=1.12, k=0.45, title=True, save=False):\n",
    "    crange = range(2,5)\n",
    "    xpoints = np.linspace(start=0, stop=20*k, num=250)\n",
    "    cmap = plt.get_cmap('Set1')\n",
    "    plt.figure(figsize=(20, 9), dpi=300, constrained_layout=True)\n",
    "    for c in crange:\n",
    "        wfun = workload(c, λ, μ1, μ2, k)\n",
    "        plt.plot(xpoints, [wfun(x) for x in xpoints],  label=f'c={c}', color=cmap(c)) # plot workload\n",
    "        plt.plot(0, wfun(0), \"o\", color=cmap(c)) # mark null workload probability\n",
    "    plt.ylabel('Cumulative distribution',fontsize=24)\n",
    "    plt.xlabel('Workload',fontsize=24)\n",
    "    plt.gca().axvline(x=k, linewidth=2, color='k', linestyle=\"--\") # add vertical line at k\n",
    "    plt.xticks(list(plt.xticks()[0][1:]) + [k], list(plt.xticks()[0][1:]) + [\"k\"]) # add xtick at k\n",
    "    plt.legend(loc=4, fontsize=24)\n",
    "    if(title): plt.title(f'$\\lambda$={λ}, $\\mu_1$={μ1}, $\\mu_2$={μ2}, k={k}',fontsize=36)\n",
    "    if(save): # save picture to file\n",
    "        # basedir = os.path.expanduser(\"~\") + '/Desktop/' # put pictures in Desktop folder\n",
    "        basedir = os.path.join(os.path.dirname(os.getcwd()),\"pictures\")\n",
    "        filename = f'w_cdf_l{λ}_m{μ1}_M{μ2}_k{k}'\n",
    "        plt.savefig(os.path.join(basedir, filename + \".pdf\"), dpi=300)\n",
    "        plt.savefig(os.path.join(basedir, filename +\".jpeg\"), dpi=300, format='JPG')\n",
    "    plt.show()"
   ]
  },
  {
   "cell_type": "code",
   "execution_count": 7,
   "metadata": {},
   "outputs": [],
   "source": [
    "def rho_graph(ρ=0.45, μ1=0.75, μ2=1.12, k=0.45, title=True, save=False):\n",
    "    crange = range(2,5)\n",
    "    xpoints = np.linspace(start=0, stop=20*k, num=250)\n",
    "    cmap = plt.get_cmap('Set1')\n",
    "    plt.figure(figsize=(20, 9), dpi=300, constrained_layout=True)\n",
    "    for c in crange:\n",
    "        wfun = workload(c, ρ*c*μ2, μ1, μ2, k)\n",
    "        plt.plot(xpoints, [wfun(x) for x in xpoints],  label=f'c={c}', color=cmap(c)) # plot workload\n",
    "        plt.plot(0, wfun(0), \"o\", color=cmap(c)) # mark null workload probability\n",
    "    plt.ylabel('Cumulative distribution',fontsize=24)\n",
    "    plt.xlabel('Workload',fontsize=24)\n",
    "    plt.gca().axvline(x=k, linewidth=2, color='k', linestyle=\"--\") # add vertical line at k\n",
    "    plt.xticks(list(plt.xticks()[0][1:]) + [k], list(plt.xticks()[0][1:]) + [\"k\"]) # add xtick at k\n",
    "    plt.legend(loc=4, fontsize=24)\n",
    "    if(title): plt.title(f'$\\\\rho$={ρ}, $\\mu_1$={μ1}, $\\mu_2$={μ2}, k={k}',fontsize=36)\n",
    "    if(save): # save picture to file\n",
    "        # basedir = os.path.expanduser(\"~\") + '/Desktop/' # put pictures in Desktop folder\n",
    "        basedir = os.path.join(os.path.dirname(os.getcwd()),\"pictures\")\n",
    "        filename = f'w_cdf_r{ρ}_m{μ1}_M{μ2}_k{k}'\n",
    "        plt.savefig(os.path.join(basedir, filename + \".pdf\"), dpi=300)\n",
    "        plt.savefig(os.path.join(basedir, filename +\".jpeg\"), dpi=300, format='JPG')\n",
    "    plt.show()"
   ]
  },
  {
   "source": [
    "interact(c_graph, λ=(0.1,1.9,0.1), μ1=(0.15,1.05,0.1), μ2=(0.8,2,0.1), k=(0.1,10,0.25), save=fixed(False))"
   ],
   "cell_type": "code",
   "metadata": {},
   "execution_count": 23,
   "outputs": [
    {
     "output_type": "display_data",
     "data": {
      "text/plain": "interactive(children=(FloatSlider(value=1.9, description='λ', max=1.9, min=0.1), FloatSlider(value=0.75, descr…",
      "application/vnd.jupyter.widget-view+json": {
       "version_major": 2,
       "version_minor": 0,
       "model_id": "831e31f8db754e01b9f1b8cc477d3fbf"
      }
     },
     "metadata": {}
    },
    {
     "output_type": "execute_result",
     "data": {
      "text/plain": [
       "<function __main__.c_graph(λ=2, μ1=0.75, μ2=1.12, k=0.45, title=True, save=False)>"
      ]
     },
     "metadata": {},
     "execution_count": 23
    }
   ]
  },
  {
   "cell_type": "code",
   "execution_count": 20,
   "metadata": {},
   "outputs": [
    {
     "output_type": "display_data",
     "data": {
      "text/plain": "interactive(children=(FloatSlider(value=0.45, description='ρ', max=0.9, min=0.1), FloatSlider(value=0.75, desc…",
      "application/vnd.jupyter.widget-view+json": {
       "version_major": 2,
       "version_minor": 0,
       "model_id": "bb89194748ed4b3785e73cb89150832f"
      }
     },
     "metadata": {}
    },
    {
     "output_type": "execute_result",
     "data": {
      "text/plain": [
       "<function __main__.rho_graph(ρ=0.45, μ1=0.75, μ2=1.12, k=0.45, title=True, save=False)>"
      ]
     },
     "metadata": {},
     "execution_count": 20
    }
   ],
   "source": [
    "interact(rho_graph, ρ=(0.1,0.9,0.1), μ1=(0.1,1,0.1), μ2=(0.8,2,0.1), k=(0.1,10,0.25), save=fixed(False))"
   ]
  }
 ]
}